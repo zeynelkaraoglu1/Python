{
 "cells": [
  {
   "cell_type": "code",
   "execution_count": null,
   "metadata": {},
   "outputs": [],
   "source": [
    "import urllib.request\n",
    "\n",
    "url1 = \"https://i1.wp.com/www.kerimusta.com/wp-content/uploads/2017/01/at-resimleri_184984.jpg\"\n",
    "url2 = \"https://i0.wp.com/www.kerimusta.com/wp-content/uploads/2017/01/at-resimleri_10583.jpg\"\n",
    "url3 = \"https://i1.wp.com/www.kerimusta.com/wp-content/uploads/2017/01/at-resimleri_146517.jpg\"\n",
    "\n",
    "\n",
    "\n",
    "urllistesi = [url1, url2, url3]\n",
    "say = 1\n",
    "for url in urllistesi:\n",
    "\turllib.request.urlretrieve(url, \"Resim\" + str(say) + \".jpg\")\n",
    "\tsay +=1"
   ]
  },
  {
   "cell_type": "code",
   "execution_count": null,
   "metadata": {},
   "outputs": [],
   "source": [
    "import pandas as pd\n",
    "import csv\n",
    "import requests\n",
    "from bs4 import BeautifulSoup\n",
    "\n",
    "imdburl = \"https://www.imdb.com/chart/top\"\n",
    "r = requests.get(imdburl)\n",
    "\n",
    "soup = BeautifulSoup(r.content, \"html.parser\")\n",
    "gelen_veri = soup.find_all(\"table\", {\"class\": \"chart full-width\"})\n",
    "#print(len(gelen_veri))\n",
    "#print(gelen_veri[0].contents)\n",
    "#print(len(gelen_veri[0].contents))\n",
    "filmtablosu = (gelen_veri[0].contents)[len(gelen_veri[0].contents)-2]\n",
    "filmtablosu = filmtablosu.find_all(\"tr\")\n",
    "for film in filmtablosu:\n",
    "    filmbasliklari = film.find_all(\"td\",{\"class\":\"titleColumn\"})\n",
    "    #print(filmbasliklari)\n",
    "    filmismi = filmbasliklari[0].text\n",
    "    filmismi = filmismi.replace(\"\\n\", \"\")\n",
    "    print(filmismi)"
   ]
  }
 ],
 "metadata": {
  "kernelspec": {
   "display_name": "Python 3",
   "language": "python",
   "name": "python3"
  },
  "language_info": {
   "codemirror_mode": {
    "name": "ipython",
    "version": 3
   },
   "file_extension": ".py",
   "mimetype": "text/x-python",
   "name": "python",
   "nbconvert_exporter": "python",
   "pygments_lexer": "ipython3",
   "version": "3.7.0"
  }
 },
 "nbformat": 4,
 "nbformat_minor": 2
}
